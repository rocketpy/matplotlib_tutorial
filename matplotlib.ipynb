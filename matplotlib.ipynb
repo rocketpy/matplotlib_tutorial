{
 "cells": [
  {
   "cell_type": "code",
   "execution_count": null,
   "metadata": {},
   "outputs": [],
   "source": [
    "# Галерея matplotlib http://matplotlib.org/gallery.html\n",
    "# Примеры кода из Интернета можно загружать с помощью волшебной команды  %load"
   ]
  },
  {
   "cell_type": "code",
   "execution_count": null,
   "metadata": {},
   "outputs": [],
   "source": [
    "import matplotlib.pyplot as plt\n",
    "%matplotlib inline \n",
    "# графики встраиваются в блокнот;"
   ]
  },
  {
   "cell_type": "code",
   "execution_count": null,
   "metadata": {},
   "outputs": [],
   "source": [
    "# Выбор формата графиков\n",
    "# По умолчанию используется растровый формат png\n",
    "%config InlineBackend.figure_format = 'svg' # векторный формат \n",
    "\n",
    "# или\n",
    "\n",
    "from IPython.display import set_matplotlib_formats\n",
    "set_matplotlib_formats('svg')  # векторный формат"
   ]
  },
  {
   "cell_type": "code",
   "execution_count": null,
   "metadata": {},
   "outputs": [],
   "source": [
    "# %matplotlib inline - в блокноте, в виде статичного изображения\n",
    "# %matplotlib - в отдельном окне"
   ]
  },
  {
   "cell_type": "code",
   "execution_count": null,
   "metadata": {},
   "outputs": [],
   "source": [
    "# Например , можно взять готовый график \n",
    "# http://matplotlib.org/examples/pie_and_polar_charts/polar_bar_demo.html\n",
    "\n",
    "Для получения шаблона кода достаточно скопировать ссылку на исходный код (.py) на странице примера\n",
    "и указать эту ссылку в команде %load:\n",
    "\n",
    "# %load http://matplotlib.org/mpl_examples/pie_and_polar_charts/polar_bar_demo.py"
   ]
  },
  {
   "cell_type": "code",
   "execution_count": null,
   "metadata": {},
   "outputs": [],
   "source": [
    "# Графики в Matplotlib строятся по точкам. Координаты точек хранятся в массивах numpy.\n",
    "\n",
    "import numpy as np\n",
    "x = np.linespace(-10, 10, 20)\n",
    "y = x**2"
   ]
  },
  {
   "cell_type": "code",
   "execution_count": null,
   "metadata": {},
   "outputs": [],
   "source": [
    "# Для вывода линейных графиков и диаграмм рассеяния используется функция plot()\n",
    "plt.plot(x, y);\n",
    "\n",
    "# Сокращенная форма для указания параметров графика\n",
    "plt.plot(x, y, 'ro-'); #изменение цвета и типа линии и маркера - см. подсказку по Shift-Tab;\n",
    "plt.plot(x, y, color='red', marker='o', linestyle='--', markerfacecolor='blue');"
   ]
  },
  {
   "cell_type": "code",
   "execution_count": null,
   "metadata": {},
   "outputs": [],
   "source": [
    "# Оформление графиков\n",
    "# В ячейке блокнота можно несколько раз вызывать функцию plot() для нанесения нескольких линий на график.\n",
    "# Также можно использовать различные функции для форматирования графика и добавления легенды.\n",
    "\n",
    "# Полная форма указания параметров графика .\n",
    "plt.plot(x, y, color='red', marker='o', linestyle='--', label='Линия 1')\n",
    "plt.plot(x, -y + 100, color='blue', marker='x', label='Линия 2')\n",
    "plt.grid() # сетка\n",
    "plt.legend(loc='best');"
   ]
  },
  {
   "cell_type": "code",
   "execution_count": null,
   "metadata": {},
   "outputs": [],
   "source": [
    "# С помощью функций xlabel(), ylabel() можно подписать координатные оси.\n",
    "# Заглавие графика можно задать с помощью функции title().\n",
    "# В названия и аннотации можно включать математические символы и формулы.\n",
    "# Чтобы не возникало ошибок из-за специальных символов, используемых для набора формул,\n",
    "# нужно добавлять символ r перед строкой с формулой, например: r'$\\alpha$'.\n",
    "\n",
    "plt.plot(x, y, color='red', marker='o', linestyle='--', label='Линия 1')\n",
    "plt.plot(x, -y + 100, color='blue', marker='x', label='Линия 2')\n",
    "plt.legend(loc='upper center', ncol=2)\n",
    "plt.grid()\n",
    "\n",
    "#Подписи для осей:\n",
    "plt.xlabel('x', fontsize=14)\n",
    "plt.ylabel('y', fontsize=14)\n",
    "\n",
    "#Диапазон оси y:\n",
    "plt.ylim(0, 120)\n",
    "\n",
    "#Заголовок:\n",
    "plt.title(r'График функций $y = x ^2 $ и $y = 100 - x^2$', fontsize=16, y=1.05);"
   ]
  },
  {
   "cell_type": "code",
   "execution_count": null,
   "metadata": {},
   "outputs": [],
   "source": [
    "# Аннотирование графиков\n",
    "\n",
    "\"\"\"\n",
    "Текстовые пояснения на графиках можно выводить с помощью функции text() .\n",
    "Функция annotate() позволяет создавать более сложные аннотации, например, со стрелками,\n",
    "указывающими на определенную область графика. Горизонтальные , вертикальные опорные линии , \n",
    "можно строить с помощью функций axhline(), axvline().\n",
    "\"\"\"\n",
    "\n",
    "t = np.linspace(0., 4 * np.pi, 101)\n",
    "f = np.sin(t) + 3\n",
    "plt.plot(t,f)\n",
    "\n",
    "plt.axhline(3,color='lightgray',linestyle='--')\n",
    "plt.text(10.5, 3.05, 'Среднее')\n",
    "plt.annotate('Локальный\\nминимум', xy=(3 * np.pi / 2, 2), \n",
    "             xytext=(3.7, 2.7), \n",
    "             arrowprops=dict(arrowstyle='->', color='red'));"
   ]
  }
 ],
 "metadata": {
  "kernelspec": {
   "display_name": "Python 3",
   "language": "python",
   "name": "python3"
  },
  "language_info": {
   "codemirror_mode": {
    "name": "ipython",
    "version": 3
   },
   "file_extension": ".py",
   "mimetype": "text/x-python",
   "name": "python",
   "nbconvert_exporter": "python",
   "pygments_lexer": "ipython3",
   "version": "3.6.2"
  }
 },
 "nbformat": 4,
 "nbformat_minor": 2
}
